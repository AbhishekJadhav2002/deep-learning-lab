{
  "cells": [
    {
      "cell_type": "markdown",
      "metadata": {
        "id": "T9f0RSeUJLP1"
      },
      "source": [
        "*Problem Statement:*\n",
        "\n",
        "    Implement the Continuous Bag of Words (CBOW) Model for the given (textual document 1) using the below steps:\n",
        "    a. Data preparation\n",
        "    b. Generate training data\n",
        "    c. Train model\n",
        "    d. Output\n",
        "\n"
      ]
    },
    {
      "cell_type": "code",
      "execution_count": 115,
      "metadata": {
        "id": "t4mNSp1FlTs8"
      },
      "outputs": [
        {
          "data": {
            "text/plain": [
              "'\\nThe speed of transmission is an important point of difference between the two viruses. Influenza has a shorter median incubation period (the time from infection to appearance of symptoms) and a shorter serial interval (the time between successive cases) than COVID-19 virus. The serial interval for COVID-19 virus is estimated to be 5-6 days, while for influenza virus, the serial interval is 3 days. This means that influenza can spread faster than COVID-19.\\n\\nFurther, transmission in the first 3-5 days of illness, or potentially pre-symptomatic transmission –transmission of the virus before the appearance of symptoms – is a major driver of transmission for influenza. In contrast, while we are learning that there are people who can shed COVID-19 virus 24-48 hours prior to symptom onset, at present, this does not appear to be a major driver of transmission.\\n\\nThe reproductive number – the number of secondary infections generated from one infected individual – is understood to be between 2 and 2.5 for COVID-19 virus, higher than for influenza. However, estimates for both COVID-19 and influenza viruses are very context and time-specific, making direct comparisons more difficult.\\n'"
            ]
          },
          "execution_count": 115,
          "metadata": {},
          "output_type": "execute_result"
        }
      ],
      "source": [
        "\"\"\"\n",
        "The speed of transmission is an important point of difference between the two viruses. Influenza has a shorter median incubation period (the time from infection to appearance of symptoms) and a shorter serial interval (the time between successive cases) than COVID-19 virus. The serial interval for COVID-19 virus is estimated to be 5-6 days, while for influenza virus, the serial interval is 3 days. This means that influenza can spread faster than COVID-19.\n",
        "\n",
        "Further, transmission in the first 3-5 days of illness, or potentially pre-symptomatic transmission –transmission of the virus before the appearance of symptoms – is a major driver of transmission for influenza. In contrast, while we are learning that there are people who can shed COVID-19 virus 24-48 hours prior to symptom onset, at present, this does not appear to be a major driver of transmission.\n",
        "\n",
        "The reproductive number – the number of secondary infections generated from one infected individual – is understood to be between 2 and 2.5 for COVID-19 virus, higher than for influenza. However, estimates for both COVID-19 and influenza viruses are very context and time-specific, making direct comparisons more difficult.\n",
        "\"\"\""
      ]
    },
    {
      "cell_type": "code",
      "execution_count": 116,
      "metadata": {
        "id": "V51q50EbF-T9"
      },
      "outputs": [],
      "source": [
        "import keras.backend as K\n",
        "from keras.models import Sequential\n",
        "from keras.layers import Dense, Embedding, Lambda\n",
        "from keras.utils import to_categorical\n",
        "from keras.preprocessing import sequence\n",
        "from keras.preprocessing.text import Tokenizer\n",
        "import pandas as pd"
      ]
    },
    {
      "cell_type": "code",
      "execution_count": 117,
      "metadata": {
        "id": "HslLN21ffhSK"
      },
      "outputs": [],
      "source": [
        "data=open('./LP-IV-datasets/CBOW(Ass5)/CBOW.txt','r')\n",
        "corona_data = [text for text in data if text.count(' ') >= 2]\n",
        "vectorize = Tokenizer()"
      ]
    },
    {
      "cell_type": "code",
      "execution_count": 118,
      "metadata": {
        "id": "wBUwYdBJElVz"
      },
      "outputs": [],
      "source": [
        "vectorize.fit_on_texts(corona_data)\n",
        "corona_data = vectorize.texts_to_sequences(corona_data)\n",
        "word2id=vectorize.word_index\n",
        "word2id['PAD'] = 0\n",
        "\n",
        "id2word={v:k for k,v in word2id.items()}"
      ]
    },
    {
      "cell_type": "code",
      "execution_count": 119,
      "metadata": {
        "id": "8bCcicjif4i8"
      },
      "outputs": [],
      "source": [
        "# Find total no of words\n",
        "total_vocab = len(word2id)\n",
        "window_size = 2"
      ]
    },
    {
      "cell_type": "code",
      "execution_count": 120,
      "metadata": {
        "id": "akOXPLfBgE8p"
      },
      "outputs": [],
      "source": [
        "# Generate the pairs of Context words and target words\n",
        "def cbow_model(data, window_size, total_vocab):\n",
        "    total_length = window_size*2\n",
        "    for text in data:\n",
        "        text_len = len(text)\n",
        "        for idx, word in enumerate(text):\n",
        "            context_word = []\n",
        "            target   = []\n",
        "            begin = idx - window_size\n",
        "            end = idx + window_size + 1\n",
        "            context_word.append([text[i] for i in range(begin, end) if 0 <= i < text_len and i != idx])\n",
        "            target.append(word)\n",
        "            contextual = sequence.pad_sequences(context_word, maxlen=total_length)\n",
        "            final_target = to_categorical(target, total_vocab)\n",
        "            yield(contextual, final_target)"
      ]
    },
    {
      "cell_type": "markdown",
      "metadata": {
        "id": "EvCwshtogInC"
      },
      "source": [
        "Create Neural Network model with following parameters :\n",
        "\n",
        "    Model type : sequential\n",
        "    \n",
        "    Layers : Dense , Lambda , embedding. Compile\n",
        "\n",
        "    Options : (loss='categorical_crossentropy', optimizer='adam')"
      ]
    },
    {
      "cell_type": "code",
      "execution_count": 121,
      "metadata": {
        "colab": {
          "base_uri": "https://localhost:8080/"
        },
        "id": "_AJOQ_RBgH0R",
        "outputId": "ed406108-abc5-44fb-c4df-f08eeba195c9"
      },
      "outputs": [
        {
          "name": "stdout",
          "output_type": "stream",
          "text": [
            "0 0\n",
            "1 0\n",
            "2 0\n",
            "3 0\n",
            "4 0\n",
            "5 0\n",
            "6 0\n",
            "7 0\n",
            "8 0\n",
            "9 0\n"
          ]
        }
      ],
      "source": [
        "model = Sequential()\n",
        "model.add(Embedding(input_dim=total_vocab, output_dim=100, input_length=window_size*2))\n",
        "model.add(Lambda(lambda x: K.mean(x, axis=1), output_shape=(100,)))\n",
        "model.add(Dense(total_vocab, activation='softmax'))\n",
        "model.compile(loss='categorical_crossentropy', optimizer='adam')\n",
        "for i in range(10):\n",
        "    cost = 0\n",
        "    for x, y in cbow_model(data, window_size, total_vocab):\n",
        "        cost += model.train_on_batch(x, y) # type: ignore\n",
        "    print(i, cost)"
      ]
    },
    {
      "cell_type": "code",
      "execution_count": 122,
      "metadata": {
        "colab": {
          "base_uri": "https://localhost:8080/"
        },
        "id": "Ub-YzNuvgHwr",
        "outputId": "992877ba-e94f-4620-c8df-b2bb9f28c308"
      },
      "outputs": [
        {
          "data": {
            "text/plain": [
              "8"
            ]
          },
          "execution_count": 122,
          "metadata": {},
          "output_type": "execute_result"
        }
      ],
      "source": [
        "# Create vector file of some word for testing\n",
        "dimensions=100\n",
        "vect_file = open('./LP-IV-datasets/CBOW(Ass5)/vectors.txt' ,'w')\n",
        "vect_file.write('{} {}\\n'.format(total_vocab,dimensions))"
      ]
    },
    {
      "cell_type": "code",
      "execution_count": 123,
      "metadata": {
        "id": "4U-4kh1Ygb_f"
      },
      "outputs": [],
      "source": [
        "# Assign weights to your trained model\n",
        "weights = model.get_weights()[0]\n",
        "for text, i in vectorize.word_index.items():\n",
        "    final_vec = ' '.join(map(str, list(weights[i, :])))\n",
        "    vect_file.write('{} {}\\n'.format(text, final_vec))\n",
        "vect_file.close()"
      ]
    },
    {
      "cell_type": "code",
      "execution_count": 124,
      "metadata": {
        "id": "Pte5kYhAgb8O"
      },
      "outputs": [
        {
          "data": {
            "text/html": [
              "<div>\n",
              "<style scoped>\n",
              "    .dataframe tbody tr th:only-of-type {\n",
              "        vertical-align: middle;\n",
              "    }\n",
              "\n",
              "    .dataframe tbody tr th {\n",
              "        vertical-align: top;\n",
              "    }\n",
              "\n",
              "    .dataframe thead th {\n",
              "        text-align: right;\n",
              "    }\n",
              "</style>\n",
              "<table border=\"1\" class=\"dataframe\">\n",
              "  <thead>\n",
              "    <tr style=\"text-align: right;\">\n",
              "      <th></th>\n",
              "      <th>the</th>\n",
              "      <th>of</th>\n",
              "      <th>influenza</th>\n",
              "      <th>covid</th>\n",
              "      <th>19</th>\n",
              "      <th>virus</th>\n",
              "      <th>for</th>\n",
              "      <th>transmission</th>\n",
              "      <th>is</th>\n",
              "      <th>to</th>\n",
              "      <th>...</th>\n",
              "      <th>both</th>\n",
              "      <th>very</th>\n",
              "      <th>context</th>\n",
              "      <th>specific</th>\n",
              "      <th>making</th>\n",
              "      <th>direct</th>\n",
              "      <th>comparisons</th>\n",
              "      <th>more</th>\n",
              "      <th>difficult</th>\n",
              "      <th>PAD</th>\n",
              "    </tr>\n",
              "  </thead>\n",
              "  <tbody>\n",
              "    <tr>\n",
              "      <th>the</th>\n",
              "      <td>0.000000</td>\n",
              "      <td>0.416938</td>\n",
              "      <td>0.373206</td>\n",
              "      <td>0.422391</td>\n",
              "      <td>0.446623</td>\n",
              "      <td>0.423370</td>\n",
              "      <td>0.430138</td>\n",
              "      <td>0.425963</td>\n",
              "      <td>0.414923</td>\n",
              "      <td>0.436728</td>\n",
              "      <td>...</td>\n",
              "      <td>0.402639</td>\n",
              "      <td>0.450444</td>\n",
              "      <td>0.421117</td>\n",
              "      <td>0.395164</td>\n",
              "      <td>0.429711</td>\n",
              "      <td>0.423255</td>\n",
              "      <td>0.443211</td>\n",
              "      <td>0.398158</td>\n",
              "      <td>0.445656</td>\n",
              "      <td>0.469780</td>\n",
              "    </tr>\n",
              "    <tr>\n",
              "      <th>of</th>\n",
              "      <td>0.416938</td>\n",
              "      <td>0.000000</td>\n",
              "      <td>0.396720</td>\n",
              "      <td>0.424540</td>\n",
              "      <td>0.370634</td>\n",
              "      <td>0.443016</td>\n",
              "      <td>0.436251</td>\n",
              "      <td>0.411362</td>\n",
              "      <td>0.440748</td>\n",
              "      <td>0.375826</td>\n",
              "      <td>...</td>\n",
              "      <td>0.417697</td>\n",
              "      <td>0.438962</td>\n",
              "      <td>0.429598</td>\n",
              "      <td>0.413331</td>\n",
              "      <td>0.430085</td>\n",
              "      <td>0.402068</td>\n",
              "      <td>0.420750</td>\n",
              "      <td>0.413995</td>\n",
              "      <td>0.408109</td>\n",
              "      <td>0.379795</td>\n",
              "    </tr>\n",
              "    <tr>\n",
              "      <th>influenza</th>\n",
              "      <td>0.373206</td>\n",
              "      <td>0.396720</td>\n",
              "      <td>0.000000</td>\n",
              "      <td>0.416751</td>\n",
              "      <td>0.386385</td>\n",
              "      <td>0.381383</td>\n",
              "      <td>0.426269</td>\n",
              "      <td>0.388344</td>\n",
              "      <td>0.439700</td>\n",
              "      <td>0.398538</td>\n",
              "      <td>...</td>\n",
              "      <td>0.406843</td>\n",
              "      <td>0.418233</td>\n",
              "      <td>0.386656</td>\n",
              "      <td>0.395612</td>\n",
              "      <td>0.419992</td>\n",
              "      <td>0.411951</td>\n",
              "      <td>0.376090</td>\n",
              "      <td>0.378439</td>\n",
              "      <td>0.414763</td>\n",
              "      <td>0.420073</td>\n",
              "    </tr>\n",
              "    <tr>\n",
              "      <th>covid</th>\n",
              "      <td>0.422391</td>\n",
              "      <td>0.424540</td>\n",
              "      <td>0.416751</td>\n",
              "      <td>0.000000</td>\n",
              "      <td>0.379004</td>\n",
              "      <td>0.395000</td>\n",
              "      <td>0.383626</td>\n",
              "      <td>0.400065</td>\n",
              "      <td>0.448840</td>\n",
              "      <td>0.408111</td>\n",
              "      <td>...</td>\n",
              "      <td>0.418244</td>\n",
              "      <td>0.419685</td>\n",
              "      <td>0.390090</td>\n",
              "      <td>0.383997</td>\n",
              "      <td>0.408722</td>\n",
              "      <td>0.404076</td>\n",
              "      <td>0.405887</td>\n",
              "      <td>0.403589</td>\n",
              "      <td>0.431757</td>\n",
              "      <td>0.403858</td>\n",
              "    </tr>\n",
              "    <tr>\n",
              "      <th>19</th>\n",
              "      <td>0.446623</td>\n",
              "      <td>0.370634</td>\n",
              "      <td>0.386385</td>\n",
              "      <td>0.379004</td>\n",
              "      <td>0.000000</td>\n",
              "      <td>0.426840</td>\n",
              "      <td>0.411385</td>\n",
              "      <td>0.384151</td>\n",
              "      <td>0.433585</td>\n",
              "      <td>0.384891</td>\n",
              "      <td>...</td>\n",
              "      <td>0.426656</td>\n",
              "      <td>0.427476</td>\n",
              "      <td>0.436468</td>\n",
              "      <td>0.435027</td>\n",
              "      <td>0.416077</td>\n",
              "      <td>0.390885</td>\n",
              "      <td>0.441585</td>\n",
              "      <td>0.422849</td>\n",
              "      <td>0.407687</td>\n",
              "      <td>0.404386</td>\n",
              "    </tr>\n",
              "    <tr>\n",
              "      <th>...</th>\n",
              "      <td>...</td>\n",
              "      <td>...</td>\n",
              "      <td>...</td>\n",
              "      <td>...</td>\n",
              "      <td>...</td>\n",
              "      <td>...</td>\n",
              "      <td>...</td>\n",
              "      <td>...</td>\n",
              "      <td>...</td>\n",
              "      <td>...</td>\n",
              "      <td>...</td>\n",
              "      <td>...</td>\n",
              "      <td>...</td>\n",
              "      <td>...</td>\n",
              "      <td>...</td>\n",
              "      <td>...</td>\n",
              "      <td>...</td>\n",
              "      <td>...</td>\n",
              "      <td>...</td>\n",
              "      <td>...</td>\n",
              "      <td>...</td>\n",
              "    </tr>\n",
              "    <tr>\n",
              "      <th>direct</th>\n",
              "      <td>0.423255</td>\n",
              "      <td>0.402068</td>\n",
              "      <td>0.411951</td>\n",
              "      <td>0.404076</td>\n",
              "      <td>0.390885</td>\n",
              "      <td>0.410741</td>\n",
              "      <td>0.366366</td>\n",
              "      <td>0.414419</td>\n",
              "      <td>0.414323</td>\n",
              "      <td>0.400893</td>\n",
              "      <td>...</td>\n",
              "      <td>0.436311</td>\n",
              "      <td>0.410979</td>\n",
              "      <td>0.426324</td>\n",
              "      <td>0.405778</td>\n",
              "      <td>0.403044</td>\n",
              "      <td>0.000000</td>\n",
              "      <td>0.416081</td>\n",
              "      <td>0.413523</td>\n",
              "      <td>0.384870</td>\n",
              "      <td>0.386098</td>\n",
              "    </tr>\n",
              "    <tr>\n",
              "      <th>comparisons</th>\n",
              "      <td>0.443211</td>\n",
              "      <td>0.420750</td>\n",
              "      <td>0.376090</td>\n",
              "      <td>0.405887</td>\n",
              "      <td>0.441585</td>\n",
              "      <td>0.433938</td>\n",
              "      <td>0.425441</td>\n",
              "      <td>0.419907</td>\n",
              "      <td>0.402662</td>\n",
              "      <td>0.388535</td>\n",
              "      <td>...</td>\n",
              "      <td>0.416147</td>\n",
              "      <td>0.447323</td>\n",
              "      <td>0.381423</td>\n",
              "      <td>0.423221</td>\n",
              "      <td>0.379927</td>\n",
              "      <td>0.416081</td>\n",
              "      <td>0.000000</td>\n",
              "      <td>0.417633</td>\n",
              "      <td>0.394862</td>\n",
              "      <td>0.379225</td>\n",
              "    </tr>\n",
              "    <tr>\n",
              "      <th>more</th>\n",
              "      <td>0.398158</td>\n",
              "      <td>0.413995</td>\n",
              "      <td>0.378439</td>\n",
              "      <td>0.403589</td>\n",
              "      <td>0.422849</td>\n",
              "      <td>0.408963</td>\n",
              "      <td>0.413588</td>\n",
              "      <td>0.400032</td>\n",
              "      <td>0.395680</td>\n",
              "      <td>0.405780</td>\n",
              "      <td>...</td>\n",
              "      <td>0.387126</td>\n",
              "      <td>0.397739</td>\n",
              "      <td>0.385745</td>\n",
              "      <td>0.388575</td>\n",
              "      <td>0.418895</td>\n",
              "      <td>0.413523</td>\n",
              "      <td>0.417633</td>\n",
              "      <td>0.000000</td>\n",
              "      <td>0.396620</td>\n",
              "      <td>0.394657</td>\n",
              "    </tr>\n",
              "    <tr>\n",
              "      <th>difficult</th>\n",
              "      <td>0.445656</td>\n",
              "      <td>0.408109</td>\n",
              "      <td>0.414763</td>\n",
              "      <td>0.431757</td>\n",
              "      <td>0.407687</td>\n",
              "      <td>0.423480</td>\n",
              "      <td>0.387720</td>\n",
              "      <td>0.393285</td>\n",
              "      <td>0.399423</td>\n",
              "      <td>0.404191</td>\n",
              "      <td>...</td>\n",
              "      <td>0.433592</td>\n",
              "      <td>0.373644</td>\n",
              "      <td>0.403370</td>\n",
              "      <td>0.378475</td>\n",
              "      <td>0.415173</td>\n",
              "      <td>0.384870</td>\n",
              "      <td>0.394862</td>\n",
              "      <td>0.396620</td>\n",
              "      <td>0.000000</td>\n",
              "      <td>0.385975</td>\n",
              "    </tr>\n",
              "    <tr>\n",
              "      <th>PAD</th>\n",
              "      <td>0.469780</td>\n",
              "      <td>0.379795</td>\n",
              "      <td>0.420073</td>\n",
              "      <td>0.403858</td>\n",
              "      <td>0.404386</td>\n",
              "      <td>0.414568</td>\n",
              "      <td>0.365956</td>\n",
              "      <td>0.383067</td>\n",
              "      <td>0.421988</td>\n",
              "      <td>0.428015</td>\n",
              "      <td>...</td>\n",
              "      <td>0.454299</td>\n",
              "      <td>0.401791</td>\n",
              "      <td>0.422193</td>\n",
              "      <td>0.395188</td>\n",
              "      <td>0.435380</td>\n",
              "      <td>0.386098</td>\n",
              "      <td>0.379225</td>\n",
              "      <td>0.394657</td>\n",
              "      <td>0.385975</td>\n",
              "      <td>0.000000</td>\n",
              "    </tr>\n",
              "  </tbody>\n",
              "</table>\n",
              "<p>103 rows × 103 columns</p>\n",
              "</div>"
            ],
            "text/plain": [
              "                  the        of  influenza     covid        19     virus  \\\n",
              "the          0.000000  0.416938   0.373206  0.422391  0.446623  0.423370   \n",
              "of           0.416938  0.000000   0.396720  0.424540  0.370634  0.443016   \n",
              "influenza    0.373206  0.396720   0.000000  0.416751  0.386385  0.381383   \n",
              "covid        0.422391  0.424540   0.416751  0.000000  0.379004  0.395000   \n",
              "19           0.446623  0.370634   0.386385  0.379004  0.000000  0.426840   \n",
              "...               ...       ...        ...       ...       ...       ...   \n",
              "direct       0.423255  0.402068   0.411951  0.404076  0.390885  0.410741   \n",
              "comparisons  0.443211  0.420750   0.376090  0.405887  0.441585  0.433938   \n",
              "more         0.398158  0.413995   0.378439  0.403589  0.422849  0.408963   \n",
              "difficult    0.445656  0.408109   0.414763  0.431757  0.407687  0.423480   \n",
              "PAD          0.469780  0.379795   0.420073  0.403858  0.404386  0.414568   \n",
              "\n",
              "                  for  transmission        is        to  ...      both  \\\n",
              "the          0.430138      0.425963  0.414923  0.436728  ...  0.402639   \n",
              "of           0.436251      0.411362  0.440748  0.375826  ...  0.417697   \n",
              "influenza    0.426269      0.388344  0.439700  0.398538  ...  0.406843   \n",
              "covid        0.383626      0.400065  0.448840  0.408111  ...  0.418244   \n",
              "19           0.411385      0.384151  0.433585  0.384891  ...  0.426656   \n",
              "...               ...           ...       ...       ...  ...       ...   \n",
              "direct       0.366366      0.414419  0.414323  0.400893  ...  0.436311   \n",
              "comparisons  0.425441      0.419907  0.402662  0.388535  ...  0.416147   \n",
              "more         0.413588      0.400032  0.395680  0.405780  ...  0.387126   \n",
              "difficult    0.387720      0.393285  0.399423  0.404191  ...  0.433592   \n",
              "PAD          0.365956      0.383067  0.421988  0.428015  ...  0.454299   \n",
              "\n",
              "                 very   context  specific    making    direct  comparisons  \\\n",
              "the          0.450444  0.421117  0.395164  0.429711  0.423255     0.443211   \n",
              "of           0.438962  0.429598  0.413331  0.430085  0.402068     0.420750   \n",
              "influenza    0.418233  0.386656  0.395612  0.419992  0.411951     0.376090   \n",
              "covid        0.419685  0.390090  0.383997  0.408722  0.404076     0.405887   \n",
              "19           0.427476  0.436468  0.435027  0.416077  0.390885     0.441585   \n",
              "...               ...       ...       ...       ...       ...          ...   \n",
              "direct       0.410979  0.426324  0.405778  0.403044  0.000000     0.416081   \n",
              "comparisons  0.447323  0.381423  0.423221  0.379927  0.416081     0.000000   \n",
              "more         0.397739  0.385745  0.388575  0.418895  0.413523     0.417633   \n",
              "difficult    0.373644  0.403370  0.378475  0.415173  0.384870     0.394862   \n",
              "PAD          0.401791  0.422193  0.395188  0.435380  0.386098     0.379225   \n",
              "\n",
              "                 more  difficult       PAD  \n",
              "the          0.398158   0.445656  0.469780  \n",
              "of           0.413995   0.408109  0.379795  \n",
              "influenza    0.378439   0.414763  0.420073  \n",
              "covid        0.403589   0.431757  0.403858  \n",
              "19           0.422849   0.407687  0.404386  \n",
              "...               ...        ...       ...  \n",
              "direct       0.413523   0.384870  0.386098  \n",
              "comparisons  0.417633   0.394862  0.379225  \n",
              "more         0.000000   0.396620  0.394657  \n",
              "difficult    0.396620   0.000000  0.385975  \n",
              "PAD          0.394657   0.385975  0.000000  \n",
              "\n",
              "[103 rows x 103 columns]"
            ]
          },
          "execution_count": 124,
          "metadata": {},
          "output_type": "execute_result"
        }
      ],
      "source": [
        "from sklearn.metrics.pairwise import euclidean_distances\n",
        "weights=model.get_weights()[0][:]\n",
        "distance=euclidean_distances(weights)\n",
        "data=pd.DataFrame(distance,index=word2id.keys()) # type: ignore\n",
        "data.columns=word2id.keys() # type: ignore\n",
        "\n",
        "data"
      ]
    },
    {
      "cell_type": "code",
      "execution_count": 125,
      "metadata": {},
      "outputs": [],
      "source": [
        "def SearchWord(WordList):\n",
        "  ans={}\n",
        "  for word in WordList:\n",
        "    if(word in word2id):\n",
        "      ans[word]=[id2word[idx] for idx in distance[word2id[word]-1].argsort()[0:5]+1]\n",
        "  return ans"
      ]
    },
    {
      "cell_type": "code",
      "execution_count": 127,
      "metadata": {},
      "outputs": [
        {
          "data": {
            "text/plain": [
              "{'covid': ['covid', 'period', 'we', '5', 'while']}"
            ]
          },
          "execution_count": 127,
          "metadata": {},
          "output_type": "execute_result"
        }
      ],
      "source": [
        "SearchWord(['covid'])"
      ]
    }
  ],
  "metadata": {
    "colab": {
      "collapsed_sections": [],
      "include_colab_link": true,
      "provenance": []
    },
    "kernelspec": {
      "display_name": "Python 3",
      "name": "python3"
    },
    "language_info": {
      "name": "python",
      "version": "3.10.1"
    }
  },
  "nbformat": 4,
  "nbformat_minor": 0
}
